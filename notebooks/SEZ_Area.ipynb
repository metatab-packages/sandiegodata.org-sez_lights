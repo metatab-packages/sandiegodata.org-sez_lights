{
 "cells": [
  {
   "cell_type": "code",
   "execution_count": 1,
   "metadata": {},
   "outputs": [],
   "source": [
    "import seaborn as sns\n",
    "import metapack as mp\n",
    "import pandas as pd\n",
    "import numpy as np\n",
    "import matplotlib.pyplot as plt\n",
    "from IPython.display import display \n",
    "import h5py \n",
    "\n",
    "# Setup importing form this package\n",
    "doc = mp.jupyter.open_source_package()\n",
    "doc.set_sys_path()\n",
    "import pylib # Import the code for the package\n",
    "\n",
    "%matplotlib inline\n",
    "sns.set_context('notebook')\n",
    "mp.jupyter.init()\n"
   ]
  },
  {
   "cell_type": "code",
   "execution_count": 2,
   "metadata": {},
   "outputs": [
    {
     "data": {
      "text/html": [
       "<div>\n",
       "<style scoped>\n",
       "    .dataframe tbody tr th:only-of-type {\n",
       "        vertical-align: middle;\n",
       "    }\n",
       "\n",
       "    .dataframe tbody tr th {\n",
       "        vertical-align: top;\n",
       "    }\n",
       "\n",
       "    .dataframe thead th {\n",
       "        text-align: right;\n",
       "    }\n",
       "</style>\n",
       "<table border=\"1\" class=\"dataframe\">\n",
       "  <thead>\n",
       "    <tr style=\"text-align: right;\">\n",
       "      <th></th>\n",
       "      <th>id</th>\n",
       "      <th>unique_id</th>\n",
       "      <th>check</th>\n",
       "      <th>latitude</th>\n",
       "      <th>longitude</th>\n",
       "      <th>country_code</th>\n",
       "      <th>country_type_combo</th>\n",
       "      <th>region</th>\n",
       "      <th>country</th>\n",
       "      <th>zone_type</th>\n",
       "      <th>...</th>\n",
       "      <th>populous_citydist</th>\n",
       "      <th>city_1m</th>\n",
       "      <th>city_1mdist</th>\n",
       "      <th>city_500k</th>\n",
       "      <th>city_500kdist</th>\n",
       "      <th>500kcity_range</th>\n",
       "      <th>city_300k</th>\n",
       "      <th>city_300kdist</th>\n",
       "      <th>note</th>\n",
       "      <th>geometry</th>\n",
       "    </tr>\n",
       "  </thead>\n",
       "  <tbody>\n",
       "    <tr>\n",
       "      <th>0</th>\n",
       "      <td>0</td>\n",
       "      <td>URY12</td>\n",
       "      <td>URY</td>\n",
       "      <td>-33.887443</td>\n",
       "      <td>-58.416899</td>\n",
       "      <td>URY</td>\n",
       "      <td>URYFree Zone</td>\n",
       "      <td>LAC</td>\n",
       "      <td>Uruguay</td>\n",
       "      <td>Free Zone</td>\n",
       "      <td>...</td>\n",
       "      <td>265</td>\n",
       "      <td>Montevideo</td>\n",
       "      <td>265</td>\n",
       "      <td>Montevideo</td>\n",
       "      <td>265</td>\n",
       "      <td>50 to 299 km</td>\n",
       "      <td>Montevideo</td>\n",
       "      <td>265</td>\n",
       "      <td>NaN</td>\n",
       "      <td>POINT (-58.41690 -33.88744)</td>\n",
       "    </tr>\n",
       "    <tr>\n",
       "      <th>1</th>\n",
       "      <td>1</td>\n",
       "      <td>URY2</td>\n",
       "      <td>URY</td>\n",
       "      <td>-34.470636</td>\n",
       "      <td>-57.831424</td>\n",
       "      <td>URY</td>\n",
       "      <td>URYFree Zone</td>\n",
       "      <td>LAC</td>\n",
       "      <td>Uruguay</td>\n",
       "      <td>Free Zone</td>\n",
       "      <td>...</td>\n",
       "      <td>182</td>\n",
       "      <td>Montevideo</td>\n",
       "      <td>182</td>\n",
       "      <td>Montevideo</td>\n",
       "      <td>182</td>\n",
       "      <td>50 to 299 km</td>\n",
       "      <td>Montevideo</td>\n",
       "      <td>182</td>\n",
       "      <td>NaN</td>\n",
       "      <td>POINT (-57.83142 -34.47064)</td>\n",
       "    </tr>\n",
       "    <tr>\n",
       "      <th>2</th>\n",
       "      <td>2</td>\n",
       "      <td>COL2</td>\n",
       "      <td>COL</td>\n",
       "      <td>10.960451</td>\n",
       "      <td>-74.762902</td>\n",
       "      <td>COL</td>\n",
       "      <td>COLFree Industrial Zone</td>\n",
       "      <td>LAC</td>\n",
       "      <td>Colombia</td>\n",
       "      <td>Free Industrial Zone</td>\n",
       "      <td>...</td>\n",
       "      <td>1013</td>\n",
       "      <td>Barranquilla</td>\n",
       "      <td>6</td>\n",
       "      <td>Barranquilla</td>\n",
       "      <td>6</td>\n",
       "      <td>Less than 50 km</td>\n",
       "      <td>Barranquilla</td>\n",
       "      <td>6</td>\n",
       "      <td>NaN</td>\n",
       "      <td>POINT (-74.76290 10.96045)</td>\n",
       "    </tr>\n",
       "    <tr>\n",
       "      <th>3</th>\n",
       "      <td>3</td>\n",
       "      <td>GUY3</td>\n",
       "      <td>GUY</td>\n",
       "      <td>6.791794</td>\n",
       "      <td>-58.167016</td>\n",
       "      <td>GUY</td>\n",
       "      <td>GUYIndustrial Estate</td>\n",
       "      <td>LAC</td>\n",
       "      <td>Guyana</td>\n",
       "      <td>Industrial Estate</td>\n",
       "      <td>...</td>\n",
       "      <td>4</td>\n",
       "      <td>No city in country with population greater tha...</td>\n",
       "      <td>0</td>\n",
       "      <td>No city in country with population greater tha...</td>\n",
       "      <td>0</td>\n",
       "      <td>Less than 50 km</td>\n",
       "      <td>No city in country with population greater tha...</td>\n",
       "      <td>0</td>\n",
       "      <td>The Government has noted that existing industr...</td>\n",
       "      <td>POINT (-58.16702 6.79179)</td>\n",
       "    </tr>\n",
       "    <tr>\n",
       "      <th>4</th>\n",
       "      <td>4</td>\n",
       "      <td>IND186</td>\n",
       "      <td>IND</td>\n",
       "      <td>23.034146</td>\n",
       "      <td>70.127156</td>\n",
       "      <td>IND</td>\n",
       "      <td>INDSpecial Economic Zone</td>\n",
       "      <td>SA</td>\n",
       "      <td>India</td>\n",
       "      <td>Special Economic Zone</td>\n",
       "      <td>...</td>\n",
       "      <td>830</td>\n",
       "      <td>Rajkot</td>\n",
       "      <td>191</td>\n",
       "      <td>Morbi</td>\n",
       "      <td>191</td>\n",
       "      <td>50 to 299 km</td>\n",
       "      <td>Morbi</td>\n",
       "      <td>191</td>\n",
       "      <td>NaN</td>\n",
       "      <td>POINT (70.12716 23.03415)</td>\n",
       "    </tr>\n",
       "  </tbody>\n",
       "</table>\n",
       "<p>5 rows × 62 columns</p>\n",
       "</div>"
      ],
      "text/plain": [
       "   id unique_id check   latitude  longitude country_code  \\\n",
       "0   0     URY12   URY -33.887443 -58.416899          URY   \n",
       "1   1      URY2   URY -34.470636 -57.831424          URY   \n",
       "2   2      COL2   COL  10.960451 -74.762902          COL   \n",
       "3   3      GUY3   GUY   6.791794 -58.167016          GUY   \n",
       "4   4    IND186   IND  23.034146  70.127156          IND   \n",
       "\n",
       "         country_type_combo region   country              zone_type  ...  \\\n",
       "0              URYFree Zone    LAC   Uruguay              Free Zone  ...   \n",
       "1              URYFree Zone    LAC   Uruguay              Free Zone  ...   \n",
       "2   COLFree Industrial Zone    LAC  Colombia   Free Industrial Zone  ...   \n",
       "3      GUYIndustrial Estate    LAC    Guyana      Industrial Estate  ...   \n",
       "4  INDSpecial Economic Zone     SA     India  Special Economic Zone  ...   \n",
       "\n",
       "  populous_citydist                                            city_1m  \\\n",
       "0               265                                         Montevideo   \n",
       "1               182                                         Montevideo   \n",
       "2              1013                                       Barranquilla   \n",
       "3                 4  No city in country with population greater tha...   \n",
       "4               830                                             Rajkot   \n",
       "\n",
       "  city_1mdist                                          city_500k  \\\n",
       "0         265                                         Montevideo   \n",
       "1         182                                         Montevideo   \n",
       "2           6                                       Barranquilla   \n",
       "3           0  No city in country with population greater tha...   \n",
       "4         191                                              Morbi   \n",
       "\n",
       "  city_500kdist   500kcity_range  \\\n",
       "0           265     50 to 299 km   \n",
       "1           182     50 to 299 km   \n",
       "2             6  Less than 50 km   \n",
       "3             0  Less than 50 km   \n",
       "4           191     50 to 299 km   \n",
       "\n",
       "                                           city_300k city_300kdist  \\\n",
       "0                                         Montevideo           265   \n",
       "1                                         Montevideo           182   \n",
       "2                                       Barranquilla             6   \n",
       "3  No city in country with population greater tha...             0   \n",
       "4                                              Morbi           191   \n",
       "\n",
       "                                                note  \\\n",
       "0                                                NaN   \n",
       "1                                                NaN   \n",
       "2                                                NaN   \n",
       "3  The Government has noted that existing industr...   \n",
       "4                                                NaN   \n",
       "\n",
       "                      geometry  \n",
       "0  POINT (-58.41690 -33.88744)  \n",
       "1  POINT (-57.83142 -34.47064)  \n",
       "2   POINT (-74.76290 10.96045)  \n",
       "3    POINT (-58.16702 6.79179)  \n",
       "4    POINT (70.12716 23.03415)  \n",
       "\n",
       "[5 rows x 62 columns]"
      ]
     },
     "execution_count": 2,
     "metadata": {},
     "output_type": "execute_result"
    }
   ],
   "source": [
    "#pkg = mp.jupyter.open_package()\n",
    "pkg = mp.jupyter.open_source_package()\n",
    "\n",
    "ntl_p = pkg.reference('ntl').package\n",
    "sez = pkg.reference('sez').resource.geoframe()\n",
    "sez.head()"
   ]
  },
  {
   "cell_type": "code",
   "execution_count": 3,
   "metadata": {},
   "outputs": [
    {
     "data": {
      "text/plain": [
       "<AxesSubplot:>"
      ]
     },
     "execution_count": 3,
     "metadata": {},
     "output_type": "execute_result"
    },
    {
     "data": {
      "image/png": "[encoded data removed]",
      "text/plain": [
       "<Figure size 432x288 with 1 Axes>"
      ]
     },
     "metadata": {
      "needs_background": "light"
     },
     "output_type": "display_data"
    }
   ],
   "source": [
    "# The operational date col is a string, so make an int year column. \n",
    "sez['year'] = pd.to_numeric(sez.operational_date, errors='coerce')\n",
    "\n",
    "sez.to_crs(3395).buffer(1000000).plot()\n",
    "\n"
   ]
  },
  {
   "cell_type": "code",
   "execution_count": 53,
   "metadata": {},
   "outputs": [
    {
     "data": {
      "application/vnd.jupyter.widget-view+json": {
       "model_id": "4741a3ca3a5e42f0bab904fe8a990219",
       "version_major": 2,
       "version_minor": 0
      },
      "text/plain": [
       "geometry buffer 5000:   0%|          | 0/270 [00:00<?, ?it/s]"
      ]
     },
     "metadata": {},
     "output_type": "display_data"
    },
    {
     "data": {
      "application/vnd.jupyter.widget-view+json": {
       "model_id": "d85f0c431cb24c2b9f2c68ea99f12328",
       "version_major": 2,
       "version_minor": 0
      },
      "text/plain": [
       "ring ring 10000:   0%|          | 0/270 [00:00<?, ?it/s]"
      ]
     },
     "metadata": {},
     "output_type": "display_data"
    },
    {
     "data": {
      "application/vnd.jupyter.widget-view+json": {
       "model_id": "fe220edc50de4274a8033e486f72a071",
       "version_major": 2,
       "version_minor": 0
      },
      "text/plain": [
       "geometry buffer 10000:   0%|          | 0/270 [00:00<?, ?it/s]"
      ]
     },
     "metadata": {},
     "output_type": "display_data"
    },
    {
     "data": {
      "application/vnd.jupyter.widget-view+json": {
       "model_id": "09f93e58b13b4f2fa5d3fc0924fdfd3a",
       "version_major": 2,
       "version_minor": 0
      },
      "text/plain": [
       "ring ring 10000:   0%|          | 0/270 [00:00<?, ?it/s]"
      ]
     },
     "metadata": {},
     "output_type": "display_data"
    },
    {
     "data": {
      "application/vnd.jupyter.widget-view+json": {
       "model_id": "efbcc22151514997888fe3697b54668b",
       "version_major": 2,
       "version_minor": 0
      },
      "text/plain": [
       "geometry buffer 20000:   0%|          | 0/270 [00:00<?, ?it/s]"
      ]
     },
     "metadata": {},
     "output_type": "display_data"
    },
    {
     "data": {
      "application/vnd.jupyter.widget-view+json": {
       "model_id": "7ad8f8be3f374d2297d6d7e1fad24111",
       "version_major": 2,
       "version_minor": 0
      },
      "text/plain": [
       "ring ring 10000:   0%|          | 0/270 [00:00<?, ?it/s]"
      ]
     },
     "metadata": {},
     "output_type": "display_data"
    }
   ],
   "source": [
    "# Generate all of the patches by masking each of the geometries in sez onto \n",
    "# all of the rasters in the ntl_p package. \n",
    "\n",
    "\n",
    "\n",
    "def build_buffer_files(df):\n",
    "    files = {}\n",
    "\n",
    "    sez = df.copy()\n",
    "    \n",
    "    for radius in (5_000, 10_000, 20_000):\n",
    "\n",
    "        # Need to buffer in meters, and calc area in meters. \n",
    "        g =  sez.to_crs(3395).buffer(radius)\n",
    "\n",
    "        sez['geo_area'] = g.area\n",
    "        sez['geometry'] = g.to_crs(4326)\n",
    "\n",
    "        # Write all of the patches to an HDF5 file\n",
    "\n",
    "        patches, buffer_exc, tasks = pylib.mp_ntl_mask(ntl_p, sez, desc=f'buffer {radius}')\n",
    "\n",
    "        rows = [ (e[0],e[1], np.nansum(e[2]), np.count_nonzero(~np.isnan(e[2])), a) for e, a in zip(patches, sez.geo_area) ]\n",
    "\n",
    "        buffer_sums = pd.DataFrame(rows, columns=['year','sez_id','buffer_pix_sum', 'buffer_pix_count', 'buffer_area'])\n",
    "\n",
    "        sez_j, rings, rings_exc, ring_sums = pylib.build_ring_sums(ntl_p, sez, radius=10_000)\n",
    "\n",
    "        sums = buffer_sums.merge(ring_sums, on=['year','sez_id'])\n",
    "        \n",
    "        sums['radius'] = radius\n",
    "        \n",
    "        files[radius] = {\n",
    "            'df': sez,\n",
    "            'buffers': patches,\n",
    "            'rings': rings,\n",
    "            'buffers_ex': buffer_exc,\n",
    "            'rings_ex': rings_exc,\n",
    "            'sums': sums,\n",
    "\n",
    "        }\n",
    "        \n",
    "    return files\n",
    "        \n",
    "save_patches(patches, files[radius])\n",
    "        \n",
    "o  = build_buffer_files(sez.sample(10)) \n",
    "\n"
   ]
  },
  {
   "cell_type": "code",
   "execution_count": 68,
   "metadata": {},
   "outputs": [],
   "source": [
    "# Write patches into an HDF file\"\"\"\n",
    "\n",
    "with h5py.File('../data/sez_patches.h5', 'w') as f:\n",
    "    for radius, e in o.items():\n",
    "        for year, sez_id,  patch in e['buffers']:\n",
    "            f[f'{radius}/buffer/{sez_id}/{year}'] = patch\n",
    "        for year, sez_id,  patch in e['rings']:\n",
    "            f[f'{radius}/rings/{sez_id}/{year}'] = patch\n"
   ]
  }
 ],
 "metadata": {
  "kernelspec": {
   "display_name": "Python 3",
   "language": "python",
   "name": "python3"
  },
  "language_info": {
   "codemirror_mode": {
    "name": "ipython",
    "version": 3
   },
   "file_extension": ".py",
   "mimetype": "text/x-python",
   "name": "python",
   "nbconvert_exporter": "python",
   "pygments_lexer": "ipython3",
   "version": "3.7.7"
  }
 },
 "nbformat": 4,
 "nbformat_minor": 4
}
